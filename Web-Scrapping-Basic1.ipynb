{
 "cells": [
  {
   "cell_type": "code",
   "execution_count": 2,
   "metadata": {},
   "outputs": [],
   "source": [
    "import requests\n",
    "from bs4 import BeautifulSoup"
   ]
  },
  {
   "cell_type": "code",
   "execution_count": 3,
   "metadata": {},
   "outputs": [],
   "source": [
    "page = requests.get(\"http://dataquestio.github.io/web-scraping-pages/simple.html\")"
   ]
  },
  {
   "cell_type": "markdown",
   "metadata": {},
   "source": [
    "A status_code of *200* means that the page downloaded successfully. We won't fully dive into status codes here, but a status code starting with a 2 generally indicates success, and a code starting with a 4 or a 5 indicates an error."
   ]
  },
  {
   "cell_type": "code",
   "execution_count": 7,
   "metadata": {},
   "outputs": [
    {
     "data": {
      "text/plain": [
       "200"
      ]
     },
     "execution_count": 7,
     "metadata": {},
     "output_type": "execute_result"
    }
   ],
   "source": [
    "page.status_code "
   ]
  },
  {
   "cell_type": "code",
   "execution_count": 8,
   "metadata": {},
   "outputs": [
    {
     "data": {
      "text/plain": [
       "'<!DOCTYPE html>\\n<html>\\n    <head>\\n        <title>A simple example page</title>\\n    </head>\\n    <body>\\n        <p>Here is some simple content for this page.</p>\\n    </body>\\n</html>'"
      ]
     },
     "execution_count": 8,
     "metadata": {},
     "output_type": "execute_result"
    }
   ],
   "source": [
    "page.text"
   ]
  },
  {
   "cell_type": "code",
   "execution_count": 9,
   "metadata": {},
   "outputs": [
    {
     "data": {
      "text/plain": [
       "b'<!DOCTYPE html>\\n<html>\\n    <head>\\n        <title>A simple example page</title>\\n    </head>\\n    <body>\\n        <p>Here is some simple content for this page.</p>\\n    </body>\\n</html>'"
      ]
     },
     "execution_count": 9,
     "metadata": {},
     "output_type": "execute_result"
    }
   ],
   "source": [
    "page.content"
   ]
  },
  {
   "cell_type": "code",
   "execution_count": 11,
   "metadata": {},
   "outputs": [
    {
     "name": "stdout",
     "output_type": "stream",
     "text": [
      "<!DOCTYPE html>\n",
      "<html>\n",
      " <head>\n",
      "  <title>\n",
      "   A simple example page\n",
      "  </title>\n",
      " </head>\n",
      " <body>\n",
      "  <p>\n",
      "   Here is some simple content for this page.\n",
      "  </p>\n",
      " </body>\n",
      "</html>\n"
     ]
    }
   ],
   "source": [
    "soup = BeautifulSoup(page.content, 'html.parser')\n",
    "print(soup.prettify())"
   ]
  },
  {
   "cell_type": "code",
   "execution_count": 14,
   "metadata": {},
   "outputs": [
    {
     "data": {
      "text/plain": [
       "['html', '\\n', <html>\n",
       " <head>\n",
       " <title>A simple example page</title>\n",
       " </head>\n",
       " <body>\n",
       " <p>Here is some simple content for this page.</p>\n",
       " </body>\n",
       " </html>]"
      ]
     },
     "execution_count": 14,
     "metadata": {},
     "output_type": "execute_result"
    }
   ],
   "source": [
    "list(soup.children)"
   ]
  },
  {
   "cell_type": "markdown",
   "metadata": {},
   "source": [
    "Shows us that there are two tags at the top level of the page. The initial <!DOCTYPE html> tag, and the <html> tag. There is a newline character (\\n) in the list."
   ]
  },
  {
   "cell_type": "code",
   "execution_count": 17,
   "metadata": {},
   "outputs": [
    {
     "name": "stdout",
     "output_type": "stream",
     "text": [
      "<class 'bs4.element.Doctype'>\n",
      "<class 'bs4.element.NavigableString'>\n",
      "<class 'bs4.element.Tag'>\n"
     ]
    }
   ],
   "source": [
    "for item in list(soup.children):\n",
    "    print(type(item))"
   ]
  },
  {
   "cell_type": "markdown",
   "metadata": {},
   "source": [
    "All of the items are BeautifulSoup objects. The first is a Doctype object contains information about the type of the document.\n",
    "\n",
    "The second is a NavigableString represents text found in the HTML document.\n",
    "\n",
    "The final item is a Tag object contains other nested tags. Allows us to navigate through an HTML document, and extract other tags and text. "
   ]
  },
  {
   "cell_type": "markdown",
   "metadata": {},
   "source": [
    "Select the html tag and its children by taking the third item in the list."
   ]
  },
  {
   "cell_type": "code",
   "execution_count": 21,
   "metadata": {},
   "outputs": [
    {
     "data": {
      "text/plain": [
       "['\\n', <head>\n",
       " <title>A simple example page</title>\n",
       " </head>, '\\n', <body>\n",
       " <p>Here is some simple content for this page.</p>\n",
       " </body>, '\\n']"
      ]
     },
     "execution_count": 21,
     "metadata": {},
     "output_type": "execute_result"
    }
   ],
   "source": [
    "html = list(soup.children)[2]\n",
    "list(html.children)a"
   ]
  },
  {
   "cell_type": "code",
   "execution_count": 23,
   "metadata": {},
   "outputs": [
    {
     "data": {
      "text/plain": [
       "['\\n', <p>Here is some simple content for this page.</p>, '\\n']"
      ]
     },
     "execution_count": 23,
     "metadata": {},
     "output_type": "execute_result"
    }
   ],
   "source": [
    "body = list(html.children)[3]\n",
    "list(body.children)"
   ]
  },
  {
   "cell_type": "markdown",
   "metadata": {},
   "source": [
    "Isolate the p tag."
   ]
  },
  {
   "cell_type": "code",
   "execution_count": 25,
   "metadata": {},
   "outputs": [
    {
     "data": {
      "text/plain": [
       "'Here is some simple content for this page.'"
      ]
     },
     "execution_count": 25,
     "metadata": {},
     "output_type": "execute_result"
    }
   ],
   "source": [
    "p = list(body.children)[1]\n",
    "p.get_text"
   ]
  },
  {
   "cell_type": "markdown",
   "metadata": {},
   "source": [
    "### Finding all instances of a tag at once"
   ]
  },
  {
   "cell_type": "code",
   "execution_count": 26,
   "metadata": {},
   "outputs": [
    {
     "data": {
      "text/plain": [
       "[<p>Here is some simple content for this page.</p>]"
      ]
     },
     "execution_count": 26,
     "metadata": {},
     "output_type": "execute_result"
    }
   ],
   "source": [
    "soup = BeautifulSoup(page.content, 'html.parser')\n",
    "soup.find_all('p')"
   ]
  },
  {
   "cell_type": "markdown",
   "metadata": {},
   "source": [
    "**find_all** returns a list. Use list indexing to extract text."
   ]
  },
  {
   "cell_type": "code",
   "execution_count": 35,
   "metadata": {},
   "outputs": [
    {
     "data": {
      "text/plain": [
       "'Here is some simple content for this page.'"
      ]
     },
     "execution_count": 35,
     "metadata": {},
     "output_type": "execute_result"
    }
   ],
   "source": [
    "soup.find_all('p')[0].get_text()"
   ]
  },
  {
   "cell_type": "markdown",
   "metadata": {},
   "source": [
    "### Searching for tags by class and id"
   ]
  },
  {
   "cell_type": "code",
   "execution_count": 37,
   "metadata": {},
   "outputs": [],
   "source": [
    "page = requests.get('http://dataquestio.github.io/web-scraping-pages/ids_and_classes.html')\n",
    "soup = BeautifulSoup(page.content, 'html.parser')"
   ]
  },
  {
   "cell_type": "code",
   "execution_count": 38,
   "metadata": {},
   "outputs": [
    {
     "data": {
      "text/plain": [
       "[<p class=\"outer-text first-item\" id=\"second\">\n",
       " <b>\n",
       "                 First outer paragraph.\n",
       "             </b>\n",
       " </p>, <p class=\"outer-text\">\n",
       " <b>\n",
       "                 Second outer paragraph.\n",
       "             </b>\n",
       " </p>]"
      ]
     },
     "execution_count": 38,
     "metadata": {},
     "output_type": "execute_result"
    }
   ],
   "source": [
    "soup.find_all('p', class_ = 'outer-text')"
   ]
  },
  {
   "cell_type": "code",
   "execution_count": 39,
   "metadata": {},
   "outputs": [
    {
     "data": {
      "text/plain": [
       "[<p class=\"outer-text first-item\" id=\"second\">\n",
       " <b>\n",
       "                 First outer paragraph.\n",
       "             </b>\n",
       " </p>, <p class=\"outer-text\">\n",
       " <b>\n",
       "                 Second outer paragraph.\n",
       "             </b>\n",
       " </p>]"
      ]
     },
     "execution_count": 39,
     "metadata": {},
     "output_type": "execute_result"
    }
   ],
   "source": [
    "soup.find_all(class_ = 'outer-text')"
   ]
  },
  {
   "cell_type": "code",
   "execution_count": 40,
   "metadata": {},
   "outputs": [
    {
     "data": {
      "text/plain": [
       "[<p class=\"inner-text first-item\" id=\"first\">\n",
       "                 First paragraph.\n",
       "             </p>]"
      ]
     },
     "execution_count": 40,
     "metadata": {},
     "output_type": "execute_result"
    }
   ],
   "source": [
    "soup.find_all(id = 'first')"
   ]
  },
  {
   "cell_type": "markdown",
   "metadata": {},
   "source": [
    "### Using CSS Selectors"
   ]
  },
  {
   "cell_type": "code",
   "execution_count": 41,
   "metadata": {
    "collapsed": true
   },
   "outputs": [
    {
     "data": {
      "text/plain": [
       "[<p class=\"inner-text first-item\" id=\"first\">\n",
       "                 First paragraph.\n",
       "             </p>, <p class=\"inner-text\">\n",
       "                 Second paragraph.\n",
       "             </p>]"
      ]
     },
     "execution_count": 41,
     "metadata": {},
     "output_type": "execute_result"
    }
   ],
   "source": [
    "soup.select('div p')"
   ]
  },
  {
   "cell_type": "code",
   "execution_count": 49,
   "metadata": {},
   "outputs": [
    {
     "name": "stdout",
     "output_type": "stream",
     "text": [
      "<div class=\"tombstone-container\">\n",
      " <p class=\"period-name\">\n",
      "  Tonight\n",
      "  <br/>\n",
      "  <br/>\n",
      " </p>\n",
      " <p>\n",
      "  <img alt=\"Tonight: Showers likely and possibly a thunderstorm.  Mostly cloudy, with a low around 50. West wind 15 to 20 mph decreasing to 8 to 13 mph after midnight. Winds could gust as high as 25 mph.  Chance of precipitation is 60%. New precipitation amounts of less than a tenth of an inch, except higher amounts possible in thunderstorms. \" class=\"forecast-icon\" src=\"newimages/medium/nshra60.png\" title=\"Tonight: Showers likely and possibly a thunderstorm.  Mostly cloudy, with a low around 50. West wind 15 to 20 mph decreasing to 8 to 13 mph after midnight. Winds could gust as high as 25 mph.  Chance of precipitation is 60%. New precipitation amounts of less than a tenth of an inch, except higher amounts possible in thunderstorms. \"/>\n",
      " </p>\n",
      " <p class=\"short-desc\">\n",
      "  Showers\n",
      "  <br/>\n",
      "  Likely\n",
      " </p>\n",
      " <p class=\"temp temp-low\">\n",
      "  Low: 50 °F\n",
      " </p>\n",
      "</div>\n"
     ]
    }
   ],
   "source": [
    "page = requests.get(\"http://forecast.weather.gov/MapClick.php?lat=37.7772&lon=-122.4168\")\n",
    "soup = BeautifulSoup(page.content, 'html.parser')\n",
    "seven_day = soup.find(id=\"seven-day-forecast\")\n",
    "forecast_items = seven_day.find_all(class_=\"tombstone-container\")\n",
    "tonight = forecast_items[0]\n",
    "print(tonight.prettify())"
   ]
  },
  {
   "cell_type": "markdown",
   "metadata": {},
   "source": [
    "### Extracting information from the page\n",
    "There are 4 pieces of information we can extract:\n",
    "\n",
    "- The name of the forecast item — in this case, Tonight.\n",
    "\n",
    "- The description of the conditions — this is stored in the title property   of img.\n",
    "- A short description of the conditions — in this case, Mostly Clear.\n",
    "- The temperature low — in this case, 49 degrees."
   ]
  },
  {
   "cell_type": "code",
   "execution_count": 52,
   "metadata": {},
   "outputs": [
    {
     "name": "stdout",
     "output_type": "stream",
     "text": [
      "Tonight\n",
      "ShowersLikely\n",
      "Low: 50 °F\n"
     ]
    }
   ],
   "source": [
    "period = tonight.find(class_ = 'period-name').get_text()\n",
    "short_desc = tonight.find(class_ = 'short-desc').get_text()\n",
    "temp = tonight.find(class_ = 'temp').get_text()\n",
    "\n",
    "print(period)\n",
    "print(short_desc)\n",
    "print(temp)"
   ]
  },
  {
   "cell_type": "markdown",
   "metadata": {},
   "source": [
    "Extract the title attribute from the img tag. Treat the BeautifulSoup object like a dictionary and pass in the attribute we want as a key."
   ]
  },
  {
   "cell_type": "code",
   "execution_count": 55,
   "metadata": {},
   "outputs": [
    {
     "name": "stdout",
     "output_type": "stream",
     "text": [
      "Tonight: Showers likely and possibly a thunderstorm.  Mostly cloudy, with a low around 50. West wind 15 to 20 mph decreasing to 8 to 13 mph after midnight. Winds could gust as high as 25 mph.  Chance of precipitation is 60%. New precipitation amounts of less than a tenth of an inch, except higher amounts possible in thunderstorms. \n"
     ]
    }
   ],
   "source": [
    "img = tonight.find(\"img\")\n",
    "desc = img['title']\n",
    "\n",
    "print(desc)"
   ]
  },
  {
   "cell_type": "markdown",
   "metadata": {},
   "source": [
    "### Extracting all the information from the page\n",
    "- Select all items with the class period-name inside an item with the class   tombstone-container in seven_day.\n",
    "- Use a list comprehension to call the get_text method on each    BeautifulSoup object\n"
   ]
  },
  {
   "cell_type": "code",
   "execution_count": 57,
   "metadata": {},
   "outputs": [
    {
     "data": {
      "text/plain": [
       "['Tonight',\n",
       " 'Sunday',\n",
       " 'SundayNight',\n",
       " 'Monday',\n",
       " 'MondayNight',\n",
       " 'Tuesday',\n",
       " 'TuesdayNight',\n",
       " 'Wednesday',\n",
       " 'WednesdayNight']"
      ]
     },
     "execution_count": 57,
     "metadata": {},
     "output_type": "execute_result"
    }
   ],
   "source": [
    "period_tags = seven_day.select('.tombstone-container .period-name')\n",
    "periods = [pt.get_text() for pt in period_tags]\n",
    "periods"
   ]
  },
  {
   "cell_type": "code",
   "execution_count": 58,
   "metadata": {},
   "outputs": [
    {
     "name": "stdout",
     "output_type": "stream",
     "text": [
      "['ShowersLikely', 'Heavy Rainand Windy', 'Heavy Rainthen ChanceShowers', 'ChanceShowers', 'ChanceShowers', 'ChanceShowers', 'Showers', 'ChanceShowers', 'Slight ChanceShowers']\n",
      "['Low: 50 °F', 'High: 56 °F', 'Low: 51 °F', 'High: 58 °F', 'Low: 54 °F', 'High: 59 °F', 'Low: 53 °F', 'High: 58 °F', 'Low: 50 °F']\n",
      "['Tonight: Showers likely and possibly a thunderstorm.  Mostly cloudy, with a low around 50. West wind 15 to 20 mph decreasing to 8 to 13 mph after midnight. Winds could gust as high as 25 mph.  Chance of precipitation is 60%. New precipitation amounts of less than a tenth of an inch, except higher amounts possible in thunderstorms. ', 'Sunday: Showers, mainly after 10am. The rain could be heavy at times.  High near 56. Windy, with a south southeast wind 14 to 19 mph increasing to 25 to 30 mph in the afternoon. Winds could gust as high as 39 mph.  Chance of precipitation is 90%. New precipitation amounts between a half and three quarters of an inch possible. ', 'Sunday Night: Showers, mainly before 10pm. The rain could be heavy at times.  Low around 51. West southwest wind 15 to 20 mph decreasing to 9 to 14 mph in the evening. Winds could gust as high as 25 mph.  Chance of precipitation is 90%. New precipitation amounts between a quarter and half of an inch possible. ', 'Monday: A 40 percent chance of showers.  Cloudy, with a high near 58. Southeast wind 3 to 6 mph.  New precipitation amounts of less than a tenth of an inch possible. ', 'Monday Night: A 30 percent chance of showers.  Cloudy, with a low around 54. South southeast wind 9 to 13 mph.  New precipitation amounts of less than a tenth of an inch possible. ', 'Tuesday: A 50 percent chance of showers.  Cloudy, with a high near 59. New precipitation amounts between a tenth and quarter of an inch possible. ', 'Tuesday Night: Showers.  Low around 53. Chance of precipitation is 80%.', 'Wednesday: A chance of showers.  Mostly cloudy, with a high near 58.', 'Wednesday Night: A slight chance of showers.  Mostly cloudy, with a low around 50.']\n"
     ]
    }
   ],
   "source": [
    "short_descs = [sd.get_text() for sd in seven_day.select(\".tombstone-container .short-desc\")]\n",
    "temps = [t.get_text() for t in seven_day.select(\".tombstone-container .temp\")]\n",
    "descs = [d[\"title\"] for d in seven_day.select(\".tombstone-container img\")]\n",
    "\n",
    "print(short_descs)\n",
    "print(temps)\n",
    "print(descs)"
   ]
  },
  {
   "cell_type": "markdown",
   "metadata": {},
   "source": [
    "### Combining our data into a Pandas Dataframe\n",
    "\n"
   ]
  },
  {
   "cell_type": "code",
   "execution_count": 64,
   "metadata": {},
   "outputs": [
    {
     "data": {
      "text/html": [
       "<div>\n",
       "<style scoped>\n",
       "    .dataframe tbody tr th:only-of-type {\n",
       "        vertical-align: middle;\n",
       "    }\n",
       "\n",
       "    .dataframe tbody tr th {\n",
       "        vertical-align: top;\n",
       "    }\n",
       "\n",
       "    .dataframe thead th {\n",
       "        text-align: right;\n",
       "    }\n",
       "</style>\n",
       "<table border=\"1\" class=\"dataframe\">\n",
       "  <thead>\n",
       "    <tr style=\"text-align: right;\">\n",
       "      <th></th>\n",
       "      <th>period</th>\n",
       "      <th>short_desc</th>\n",
       "      <th>temp</th>\n",
       "      <th>desc</th>\n",
       "    </tr>\n",
       "  </thead>\n",
       "  <tbody>\n",
       "    <tr>\n",
       "      <th>0</th>\n",
       "      <td>Tonight</td>\n",
       "      <td>ShowersLikely</td>\n",
       "      <td>Low: 50 °F</td>\n",
       "      <td>Tonight: Showers likely and possibly a thunder...</td>\n",
       "    </tr>\n",
       "    <tr>\n",
       "      <th>1</th>\n",
       "      <td>Sunday</td>\n",
       "      <td>Heavy Rainand Windy</td>\n",
       "      <td>High: 56 °F</td>\n",
       "      <td>Sunday: Showers, mainly after 10am. The rain c...</td>\n",
       "    </tr>\n",
       "    <tr>\n",
       "      <th>2</th>\n",
       "      <td>SundayNight</td>\n",
       "      <td>Heavy Rainthen ChanceShowers</td>\n",
       "      <td>Low: 51 °F</td>\n",
       "      <td>Sunday Night: Showers, mainly before 10pm. The...</td>\n",
       "    </tr>\n",
       "    <tr>\n",
       "      <th>3</th>\n",
       "      <td>Monday</td>\n",
       "      <td>ChanceShowers</td>\n",
       "      <td>High: 58 °F</td>\n",
       "      <td>Monday: A 40 percent chance of showers.  Cloud...</td>\n",
       "    </tr>\n",
       "    <tr>\n",
       "      <th>4</th>\n",
       "      <td>MondayNight</td>\n",
       "      <td>ChanceShowers</td>\n",
       "      <td>Low: 54 °F</td>\n",
       "      <td>Monday Night: A 30 percent chance of showers. ...</td>\n",
       "    </tr>\n",
       "    <tr>\n",
       "      <th>5</th>\n",
       "      <td>Tuesday</td>\n",
       "      <td>ChanceShowers</td>\n",
       "      <td>High: 59 °F</td>\n",
       "      <td>Tuesday: A 50 percent chance of showers.  Clou...</td>\n",
       "    </tr>\n",
       "    <tr>\n",
       "      <th>6</th>\n",
       "      <td>TuesdayNight</td>\n",
       "      <td>Showers</td>\n",
       "      <td>Low: 53 °F</td>\n",
       "      <td>Tuesday Night: Showers.  Low around 53. Chance...</td>\n",
       "    </tr>\n",
       "    <tr>\n",
       "      <th>7</th>\n",
       "      <td>Wednesday</td>\n",
       "      <td>ChanceShowers</td>\n",
       "      <td>High: 58 °F</td>\n",
       "      <td>Wednesday: A chance of showers.  Mostly cloudy...</td>\n",
       "    </tr>\n",
       "    <tr>\n",
       "      <th>8</th>\n",
       "      <td>WednesdayNight</td>\n",
       "      <td>Slight ChanceShowers</td>\n",
       "      <td>Low: 50 °F</td>\n",
       "      <td>Wednesday Night: A slight chance of showers.  ...</td>\n",
       "    </tr>\n",
       "  </tbody>\n",
       "</table>\n",
       "</div>"
      ],
      "text/plain": [
       "           period                    short_desc         temp  \\\n",
       "0         Tonight                 ShowersLikely   Low: 50 °F   \n",
       "1          Sunday           Heavy Rainand Windy  High: 56 °F   \n",
       "2     SundayNight  Heavy Rainthen ChanceShowers   Low: 51 °F   \n",
       "3          Monday                 ChanceShowers  High: 58 °F   \n",
       "4     MondayNight                 ChanceShowers   Low: 54 °F   \n",
       "5         Tuesday                 ChanceShowers  High: 59 °F   \n",
       "6    TuesdayNight                       Showers   Low: 53 °F   \n",
       "7       Wednesday                 ChanceShowers  High: 58 °F   \n",
       "8  WednesdayNight          Slight ChanceShowers   Low: 50 °F   \n",
       "\n",
       "                                                desc  \n",
       "0  Tonight: Showers likely and possibly a thunder...  \n",
       "1  Sunday: Showers, mainly after 10am. The rain c...  \n",
       "2  Sunday Night: Showers, mainly before 10pm. The...  \n",
       "3  Monday: A 40 percent chance of showers.  Cloud...  \n",
       "4  Monday Night: A 30 percent chance of showers. ...  \n",
       "5  Tuesday: A 50 percent chance of showers.  Clou...  \n",
       "6  Tuesday Night: Showers.  Low around 53. Chance...  \n",
       "7  Wednesday: A chance of showers.  Mostly cloudy...  \n",
       "8  Wednesday Night: A slight chance of showers.  ...  "
      ]
     },
     "execution_count": 64,
     "metadata": {},
     "output_type": "execute_result"
    }
   ],
   "source": [
    "import pandas as pd\n",
    "weather = pd.DataFrame({\n",
    "    \"period\" : periods,\n",
    "    \"short_desc\": short_descs,\n",
    "    \"temp\":temps,\n",
    "    \"desc\" : descs\n",
    "})\n",
    "weather"
   ]
  },
  {
   "cell_type": "markdown",
   "metadata": {},
   "source": [
    "Use `Series.str.extract` to pull out numeric temp values"
   ]
  },
  {
   "cell_type": "code",
   "execution_count": 69,
   "metadata": {},
   "outputs": [
    {
     "data": {
      "text/plain": [
       "0    50\n",
       "1    56\n",
       "2    51\n",
       "3    58\n",
       "4    54\n",
       "5    59\n",
       "6    53\n",
       "7    58\n",
       "8    50\n",
       "Name: temp_num, dtype: object"
      ]
     },
     "execution_count": 69,
     "metadata": {},
     "output_type": "execute_result"
    }
   ],
   "source": [
    "temp_num = weather['temp'].str.extract(\"(?P<temp_num>\\d+)\", expand = False)\n",
    "weather['temp_num']= temp_num.astype('int')\n",
    "temp_num"
   ]
  },
  {
   "cell_type": "code",
   "execution_count": 70,
   "metadata": {},
   "outputs": [
    {
     "data": {
      "text/plain": [
       "54.333333333333336"
      ]
     },
     "execution_count": 70,
     "metadata": {},
     "output_type": "execute_result"
    }
   ],
   "source": [
    "weather['temp_num'].mean()"
   ]
  },
  {
   "cell_type": "code",
   "execution_count": 71,
   "metadata": {},
   "outputs": [
    {
     "data": {
      "text/plain": [
       "0     True\n",
       "1    False\n",
       "2     True\n",
       "3    False\n",
       "4     True\n",
       "5    False\n",
       "6     True\n",
       "7    False\n",
       "8     True\n",
       "Name: temp, dtype: bool"
      ]
     },
     "execution_count": 71,
     "metadata": {},
     "output_type": "execute_result"
    }
   ],
   "source": [
    "is_night = weather['temp'].str.contains(\"Low\")\n",
    "weather[\"is_night\"] = is_night\n",
    "is_night"
   ]
  }
 ],
 "metadata": {
  "kernelspec": {
   "display_name": "Python 3",
   "language": "python",
   "name": "python3"
  },
  "language_info": {
   "codemirror_mode": {
    "name": "ipython",
    "version": 3
   },
   "file_extension": ".py",
   "mimetype": "text/x-python",
   "name": "python",
   "nbconvert_exporter": "python",
   "pygments_lexer": "ipython3",
   "version": "3.7.0"
  }
 },
 "nbformat": 4,
 "nbformat_minor": 2
}
