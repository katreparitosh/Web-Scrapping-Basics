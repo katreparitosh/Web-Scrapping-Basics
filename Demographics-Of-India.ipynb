{
 "cells": [
  {
   "cell_type": "code",
   "execution_count": 68,
   "metadata": {},
   "outputs": [],
   "source": [
    "import pandas as pd\n",
    "from bs4 import BeautifulSoup\n",
    "import requests"
   ]
  },
  {
   "cell_type": "code",
   "execution_count": 67,
   "metadata": {},
   "outputs": [
    {
     "data": {
      "text/plain": [
       "<Response [200]>"
      ]
     },
     "execution_count": 67,
     "metadata": {},
     "output_type": "execute_result"
    }
   ],
   "source": [
    "url = 'https://en.wikipedia.org/wiki/Demographics_of_India'\n",
    "response = requests.get(url)\n",
    "response"
   ]
  },
  {
   "cell_type": "code",
   "execution_count": 78,
   "metadata": {},
   "outputs": [],
   "source": [
    "# create soup\n",
    "soup = BeautifulSoup(response.content, 'lxml')"
   ]
  },
  {
   "cell_type": "code",
   "execution_count": 80,
   "metadata": {},
   "outputs": [],
   "source": [
    "# required table is under tag table and class = wikitable sortable\n",
    "pop_dist = soup.find_all('table', class_ = 'wikitable sortable')[4]"
   ]
  },
  {
   "cell_type": "code",
   "execution_count": 81,
   "metadata": {},
   "outputs": [],
   "source": [
    "states = []\n",
    "# get states names from the table\n",
    "for tag in pop_dist.find_all('td'):\n",
    "    if tag.find('a'):\n",
    "        states.append(tag.find('a').text)"
   ]
  },
  {
   "cell_type": "code",
   "execution_count": 82,
   "metadata": {},
   "outputs": [
    {
     "name": "stdout",
     "output_type": "stream",
     "text": [
      "['Uttar Pradesh', 'Maharashtra', 'Bihar', 'West Bengal', 'Madhya Pradesh', 'Tamil Nadu', 'Rajasthan', 'Karnataka', 'Gujarat', 'Andhra Pradesh', 'Odisha', 'Telangana', 'Kerala', 'Jharkhand', 'Assam', 'Punjab', 'Chhattisgarh', 'Haryana', 'Delhi', 'Jammu and Kashmir', 'Uttarakhand', 'Himachal Pradesh', 'Tripura', 'Meghalaya', 'Manipur', 'Nagaland', 'Goa', 'Arunachal Pradesh', 'Puducherry', 'Mizoram', 'Chandigarh', 'Sikkim', 'Andaman and Nicobar Islands', 'Dadra and Nagar Haveli', 'Daman and Diu', 'Lakshadweep']\n"
     ]
    }
   ],
   "source": [
    "print(states)"
   ]
  },
  {
   "cell_type": "markdown",
   "metadata": {},
   "source": [
    "Colleting data for the rest of the table.\n",
    "\n",
    "Respective column data is available at every **12th step.**\n",
    "\n",
    "Below is the Population Column data, eg.uttar pradesh has population of 199,812,341 etc\n"
   ]
  },
  {
   "cell_type": "code",
   "execution_count": 83,
   "metadata": {},
   "outputs": [],
   "source": [
    "all_data = []\n",
    "for i in range(2,12):\n",
    "    all_data.append(pop_dist.find_all('td')[i::12])"
   ]
  },
  {
   "cell_type": "code",
   "execution_count": 84,
   "metadata": {},
   "outputs": [],
   "source": [
    "# Create a function to get individual column data\n",
    "def get_data(all_data):\n",
    "    df_list = []\n",
    "    for data in all_data:\n",
    "        df_list.append(int(data.text.strip().replace(',','')))\n",
    "    return df_list"
   ]
  },
  {
   "cell_type": "code",
   "execution_count": 85,
   "metadata": {},
   "outputs": [],
   "source": [
    "df_dict = {0 : [], 2 : [], 3 : [], 4 : [], 5 : [], 6 : [], 7 : [], 8 : [], 9 : []}"
   ]
  },
  {
   "cell_type": "code",
   "execution_count": 86,
   "metadata": {},
   "outputs": [],
   "source": [
    "# call the get_data function and store the column data in respective value of df_dict\n",
    "for i in range(len(df_dict)+1):\n",
    "    if i == 1:\n",
    "        continue\n",
    "    else:\n",
    "        data = get_data(all_data[i])\n",
    "        df_dict[i] = data"
   ]
  },
  {
   "cell_type": "code",
   "execution_count": 87,
   "metadata": {},
   "outputs": [],
   "source": [
    "percent = []\n",
    "for tag in all_data[1]:\n",
    "    percent.append(float(tag.text.strip()))"
   ]
  },
  {
   "cell_type": "code",
   "execution_count": 88,
   "metadata": {},
   "outputs": [
    {
     "data": {
      "text/html": [
       "<div>\n",
       "<style scoped>\n",
       "    .dataframe tbody tr th:only-of-type {\n",
       "        vertical-align: middle;\n",
       "    }\n",
       "\n",
       "    .dataframe tbody tr th {\n",
       "        vertical-align: top;\n",
       "    }\n",
       "\n",
       "    .dataframe thead th {\n",
       "        text-align: right;\n",
       "    }\n",
       "</style>\n",
       "<table border=\"1\" class=\"dataframe\">\n",
       "  <thead>\n",
       "    <tr style=\"text-align: right;\">\n",
       "      <th></th>\n",
       "      <th>states</th>\n",
       "      <th>0</th>\n",
       "      <th>2</th>\n",
       "      <th>3</th>\n",
       "      <th>4</th>\n",
       "      <th>5</th>\n",
       "      <th>6</th>\n",
       "      <th>7</th>\n",
       "      <th>8</th>\n",
       "      <th>9</th>\n",
       "      <th>percent</th>\n",
       "    </tr>\n",
       "  </thead>\n",
       "  <tbody>\n",
       "    <tr>\n",
       "      <th>31</th>\n",
       "      <td>Sikkim</td>\n",
       "      <td>610577</td>\n",
       "      <td>323070</td>\n",
       "      <td>287507</td>\n",
       "      <td>35563</td>\n",
       "      <td>890</td>\n",
       "      <td>455962</td>\n",
       "      <td>151726</td>\n",
       "      <td>7096</td>\n",
       "      <td>86</td>\n",
       "      <td>0.05</td>\n",
       "    </tr>\n",
       "    <tr>\n",
       "      <th>32</th>\n",
       "      <td>Andaman and Nicobar Islands</td>\n",
       "      <td>380581</td>\n",
       "      <td>202871</td>\n",
       "      <td>177710</td>\n",
       "      <td>25161</td>\n",
       "      <td>876</td>\n",
       "      <td>244411</td>\n",
       "      <td>135533</td>\n",
       "      <td>8249</td>\n",
       "      <td>46</td>\n",
       "      <td>0.03</td>\n",
       "    </tr>\n",
       "    <tr>\n",
       "      <th>33</th>\n",
       "      <td>Dadra and Nagar Haveli</td>\n",
       "      <td>343709</td>\n",
       "      <td>193760</td>\n",
       "      <td>149949</td>\n",
       "      <td>43811</td>\n",
       "      <td>774</td>\n",
       "      <td>183024</td>\n",
       "      <td>159829</td>\n",
       "      <td>491</td>\n",
       "      <td>698</td>\n",
       "      <td>0.03</td>\n",
       "    </tr>\n",
       "    <tr>\n",
       "      <th>34</th>\n",
       "      <td>Daman and Diu</td>\n",
       "      <td>243247</td>\n",
       "      <td>150301</td>\n",
       "      <td>92946</td>\n",
       "      <td>57355</td>\n",
       "      <td>618</td>\n",
       "      <td>60331</td>\n",
       "      <td>182580</td>\n",
       "      <td>112</td>\n",
       "      <td>2169</td>\n",
       "      <td>0.02</td>\n",
       "    </tr>\n",
       "    <tr>\n",
       "      <th>35</th>\n",
       "      <td>Lakshadweep</td>\n",
       "      <td>64473</td>\n",
       "      <td>33123</td>\n",
       "      <td>31350</td>\n",
       "      <td>1773</td>\n",
       "      <td>946</td>\n",
       "      <td>14121</td>\n",
       "      <td>50308</td>\n",
       "      <td>32</td>\n",
       "      <td>2013</td>\n",
       "      <td>0.01</td>\n",
       "    </tr>\n",
       "  </tbody>\n",
       "</table>\n",
       "</div>"
      ],
      "text/plain": [
       "                         states       0       2       3      4    5       6  \\\n",
       "31                       Sikkim  610577  323070  287507  35563  890  455962   \n",
       "32  Andaman and Nicobar Islands  380581  202871  177710  25161  876  244411   \n",
       "33       Dadra and Nagar Haveli  343709  193760  149949  43811  774  183024   \n",
       "34                Daman and Diu  243247  150301   92946  57355  618   60331   \n",
       "35                  Lakshadweep   64473   33123   31350   1773  946   14121   \n",
       "\n",
       "         7     8     9  percent  \n",
       "31  151726  7096    86     0.05  \n",
       "32  135533  8249    46     0.03  \n",
       "33  159829   491   698     0.03  \n",
       "34  182580   112  2169     0.02  \n",
       "35   50308    32  2013     0.01  "
      ]
     },
     "execution_count": 88,
     "metadata": {},
     "output_type": "execute_result"
    }
   ],
   "source": [
    "states = pd.DataFrame(states,columns = ['states'])\n",
    "percent = pd.DataFrame(percent,columns = ['percent'])\n",
    "df = pd.DataFrame(df_dict)\n",
    "df = pd.concat([states,df,percent],axis = 1)\n",
    "df.tail()"
   ]
  },
  {
   "cell_type": "code",
   "execution_count": 89,
   "metadata": {},
   "outputs": [
    {
     "name": "stdout",
     "output_type": "stream",
     "text": [
      "Number of observations in df (36, 11)\n"
     ]
    },
    {
     "data": {
      "text/html": [
       "<div>\n",
       "<style scoped>\n",
       "    .dataframe tbody tr th:only-of-type {\n",
       "        vertical-align: middle;\n",
       "    }\n",
       "\n",
       "    .dataframe tbody tr th {\n",
       "        vertical-align: top;\n",
       "    }\n",
       "\n",
       "    .dataframe thead th {\n",
       "        text-align: right;\n",
       "    }\n",
       "</style>\n",
       "<table border=\"1\" class=\"dataframe\">\n",
       "  <thead>\n",
       "    <tr style=\"text-align: right;\">\n",
       "      <th></th>\n",
       "      <th>states</th>\n",
       "      <th>population</th>\n",
       "      <th>male</th>\n",
       "      <th>female</th>\n",
       "      <th>diff_bet_male_and_female</th>\n",
       "      <th>sex ratio</th>\n",
       "      <th>rural</th>\n",
       "      <th>urban</th>\n",
       "      <th>area</th>\n",
       "      <th>density</th>\n",
       "      <th>percent</th>\n",
       "    </tr>\n",
       "  </thead>\n",
       "  <tbody>\n",
       "    <tr>\n",
       "      <th>0</th>\n",
       "      <td>Uttar Pradesh</td>\n",
       "      <td>199812341</td>\n",
       "      <td>104480510</td>\n",
       "      <td>95331831</td>\n",
       "      <td>9148679</td>\n",
       "      <td>930</td>\n",
       "      <td>155111022</td>\n",
       "      <td>44470455</td>\n",
       "      <td>240928</td>\n",
       "      <td>828</td>\n",
       "      <td>16.50</td>\n",
       "    </tr>\n",
       "    <tr>\n",
       "      <th>1</th>\n",
       "      <td>Maharashtra</td>\n",
       "      <td>112374333</td>\n",
       "      <td>58243056</td>\n",
       "      <td>54131277</td>\n",
       "      <td>4111779</td>\n",
       "      <td>929</td>\n",
       "      <td>61545441</td>\n",
       "      <td>50827531</td>\n",
       "      <td>307713</td>\n",
       "      <td>365</td>\n",
       "      <td>9.28</td>\n",
       "    </tr>\n",
       "    <tr>\n",
       "      <th>2</th>\n",
       "      <td>Bihar</td>\n",
       "      <td>104099452</td>\n",
       "      <td>54278157</td>\n",
       "      <td>49821295</td>\n",
       "      <td>4456862</td>\n",
       "      <td>918</td>\n",
       "      <td>92075028</td>\n",
       "      <td>11729609</td>\n",
       "      <td>94163</td>\n",
       "      <td>1102</td>\n",
       "      <td>8.60</td>\n",
       "    </tr>\n",
       "    <tr>\n",
       "      <th>3</th>\n",
       "      <td>West Bengal</td>\n",
       "      <td>91276115</td>\n",
       "      <td>46809027</td>\n",
       "      <td>44467088</td>\n",
       "      <td>2341939</td>\n",
       "      <td>950</td>\n",
       "      <td>62213676</td>\n",
       "      <td>29134060</td>\n",
       "      <td>88752</td>\n",
       "      <td>1030</td>\n",
       "      <td>7.54</td>\n",
       "    </tr>\n",
       "    <tr>\n",
       "      <th>4</th>\n",
       "      <td>Madhya Pradesh</td>\n",
       "      <td>72626809</td>\n",
       "      <td>37612306</td>\n",
       "      <td>35014503</td>\n",
       "      <td>2597803</td>\n",
       "      <td>931</td>\n",
       "      <td>52537899</td>\n",
       "      <td>20059666</td>\n",
       "      <td>308245</td>\n",
       "      <td>236</td>\n",
       "      <td>6.00</td>\n",
       "    </tr>\n",
       "  </tbody>\n",
       "</table>\n",
       "</div>"
      ],
      "text/plain": [
       "           states  population       male    female  diff_bet_male_and_female  \\\n",
       "0   Uttar Pradesh   199812341  104480510  95331831                   9148679   \n",
       "1     Maharashtra   112374333   58243056  54131277                   4111779   \n",
       "2           Bihar   104099452   54278157  49821295                   4456862   \n",
       "3     West Bengal    91276115   46809027  44467088                   2341939   \n",
       "4  Madhya Pradesh    72626809   37612306  35014503                   2597803   \n",
       "\n",
       "   sex ratio      rural     urban    area  density  percent  \n",
       "0        930  155111022  44470455  240928      828    16.50  \n",
       "1        929   61545441  50827531  307713      365     9.28  \n",
       "2        918   92075028  11729609   94163     1102     8.60  \n",
       "3        950   62213676  29134060   88752     1030     7.54  \n",
       "4        931   52537899  20059666  308245      236     6.00  "
      ]
     },
     "execution_count": 89,
     "metadata": {},
     "output_type": "execute_result"
    }
   ],
   "source": [
    "df.columns = ['states','population','male','female','diff_bet_male_and_female','sex ratio','rural','urban','area','density','percent']\n",
    "print(f\"Number of observations in df {df.shape}\")\n",
    "df.head()"
   ]
  },
  {
   "cell_type": "code",
   "execution_count": null,
   "metadata": {},
   "outputs": [],
   "source": []
  }
 ],
 "metadata": {
  "kernelspec": {
   "display_name": "Python 3",
   "language": "python",
   "name": "python3"
  },
  "language_info": {
   "codemirror_mode": {
    "name": "ipython",
    "version": 3
   },
   "file_extension": ".py",
   "mimetype": "text/x-python",
   "name": "python",
   "nbconvert_exporter": "python",
   "pygments_lexer": "ipython3",
   "version": "3.7.0"
  }
 },
 "nbformat": 4,
 "nbformat_minor": 2
}
