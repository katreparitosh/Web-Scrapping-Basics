{
 "cells": [
  {
   "cell_type": "code",
   "execution_count": 1,
   "metadata": {},
   "outputs": [
    {
     "ename": "ImportError",
     "evalue": "cannot import name 'urlopen' from 'urllib' (C:\\Users\\hp\\Anaconda3\\lib\\urllib\\__init__.py)",
     "output_type": "error",
     "traceback": [
      "\u001b[1;31m---------------------------------------------------------------------------\u001b[0m",
      "\u001b[1;31mImportError\u001b[0m                               Traceback (most recent call last)",
      "\u001b[1;32m<ipython-input-1-5d4c446607bd>\u001b[0m in \u001b[0;36m<module>\u001b[1;34m()\u001b[0m\n\u001b[1;32m----> 1\u001b[1;33m \u001b[1;32mfrom\u001b[0m \u001b[0murllib\u001b[0m \u001b[1;32mimport\u001b[0m \u001b[0murlopen\u001b[0m \u001b[1;32mas\u001b[0m \u001b[0muReq\u001b[0m\u001b[1;33m\u001b[0m\u001b[0m\n\u001b[0m\u001b[0;32m      2\u001b[0m \u001b[1;32mfrom\u001b[0m \u001b[0mbs4\u001b[0m \u001b[1;32mimport\u001b[0m \u001b[0mBeautifulSoup\u001b[0m \u001b[1;32mas\u001b[0m \u001b[0msoup\u001b[0m\u001b[1;33m\u001b[0m\u001b[0m\n\u001b[0;32m      3\u001b[0m \u001b[1;33m\u001b[0m\u001b[0m\n\u001b[0;32m      4\u001b[0m \u001b[0mmy_url\u001b[0m\u001b[1;33m=\u001b[0m\u001b[1;34m'https://www.newegg.com/Video-Cards-Video-Devices/Category/ID-38?Tpk=graphics%20card'\u001b[0m\u001b[1;33m\u001b[0m\u001b[0m\n\u001b[0;32m      5\u001b[0m \u001b[0mUclient\u001b[0m\u001b[1;33m=\u001b[0m\u001b[0muReq\u001b[0m\u001b[1;33m(\u001b[0m\u001b[0mmy_url\u001b[0m\u001b[1;33m)\u001b[0m\u001b[1;33m\u001b[0m\u001b[0m\n",
      "\u001b[1;31mImportError\u001b[0m: cannot import name 'urlopen' from 'urllib' (C:\\Users\\hp\\Anaconda3\\lib\\urllib\\__init__.py)"
     ]
    }
   ],
   "source": [
    "from urllib import urlopen as uReq\n",
    "from bs4 import BeautifulSoup as soup\n",
    "\n",
    "my_url='https://www.newegg.com/Video-Cards-Video-Devices/Category/ID-38?Tpk=graphics%20card'\n",
    "Uclient=uReq(my_url)\n",
    "page_html=Uclient.read()\n",
    "Uclient.close()\n",
    "#this dos the html parsing\n",
    "page_soup=soup(page_html,\"html.parser\")\n",
    "#finding out specific tag\n",
    "page_soup.p\n",
    "page_soup.h1\n",
    "page_soup.body.span\n",
    "page_soup.body.span\n",
    "#now for each graphic card in item-container tag\n",
    "#grab this product\n",
    "containers=page_soup.findAll(\"div\",{\"class\":\"item-container\"})\n",
    "len(containers)#for knowing how many product is there\n",
    "containers[0]#to know first product html\n",
    "filename=\"products.csv\"\n",
    "f=open(filename, \"w\")\n",
    "headers=\"brand, product_name, shipping\\n\"\n",
    "f.write(headers)\n",
    "for container in containers:\n",
    "\tbrand=container.div.div.a.img[\"alt\"]#it gives hieracy and grabs title name of product\n",
    "\ttitle_container=container.findAll(\"a\",{\"class\":\"item-title\"})\n",
    "\tproduct_name=title_container[0].text#for text\n",
    "\tshipping_container=container.findAll(\"li\",{\"class\":\"price-ship\"})\n",
    "\tshipping=shipping_container[0].text.strip()#strip removes the white space\n",
    "\tprint(\"brand: \"+brand)\n",
    "\tprint(\"product_name: \" +product_name)\n",
    "\tprint(\"shipping: \" +shipping)\n",
    "\n",
    "\tf.write(brand + \",\" +product_name.replace(\",\",\"|\") + \",\"+ shipping +\"\\n\")\n",
    "f.close()"
   ]
  }
 ],
 "metadata": {
  "kernelspec": {
   "display_name": "Python 3",
   "language": "python",
   "name": "python3"
  },
  "language_info": {
   "codemirror_mode": {
    "name": "ipython",
    "version": 3
   },
   "file_extension": ".py",
   "mimetype": "text/x-python",
   "name": "python",
   "nbconvert_exporter": "python",
   "pygments_lexer": "ipython3",
   "version": "3.7.0"
  }
 },
 "nbformat": 4,
 "nbformat_minor": 2
}
